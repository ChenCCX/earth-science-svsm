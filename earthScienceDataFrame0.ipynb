{
 "cells": [
  {
   "cell_type": "code",
   "execution_count": 6,
   "id": "95c7769f",
   "metadata": {},
   "outputs": [],
   "source": [
    "from IPython.core.interactiveshell import InteractiveShell\n",
    "InteractiveShell.ast_node_interactivity = \"all\"\n",
    "import numpy as np\n",
    "import matplotlib.pyplot as plt\n",
    "import os\n",
    "import pandas as pd"
   ]
  },
  {
   "cell_type": "code",
   "execution_count": 8,
   "id": "82a1deee",
   "metadata": {},
   "outputs": [
    {
     "data": {
      "text/plain": [
       "(8611, 64)"
      ]
     },
     "execution_count": 8,
     "metadata": {},
     "output_type": "execute_result"
    }
   ],
   "source": [
    "dfes = pd.read_csv('RiverRoad_Quan_RF.csv')\n",
    "dfes.shape\n",
    "qu_dem = dfes.melt(id_vars=['qu_dem_MIN','qu_dem_MAX','qu_dem_RANGE','qu_dem_MEAN','qu_dem_STD','qu_dem_SUM'])\n",
    "qu_dsm = dfes.melt(id_vars=['qu_dsm_MIN','qu_dsm_MAX','qu_dsm_RANGE','qu_dsm_MEAN','qu_dsm_STD','qu_dsm_SUM'])\n",
    "qu_hyddem = dfes.melt(id_vars=['qu_hyddem_MIN','qu_hyddem_MAX','qu_hyddem_RANGE','qu_hyddem_MEAN','qu_hyddem_STD','qu_hyddem_SUM'])\n",
    "qu_smdem = dfes.melt(id_vars=['qu_smdem_MIN','qu_smdem_MAX','qu_smdem_RANGE','qu_smdem_MEAN','qu_smdem_STD','qu_smdem_SUM'])\n",
    "qu_asp = dfes.melt(id_vars=['qu_asp_MIN','qu_asp_MAX','qu_asp_RANGE','qu_asp_MEAN','qu_asp_STD','qu_asp_SUM'])\n",
    "qu_floAcu = dfes.melt(id_vars=['qu_floAcu_MIN','qu_floAcu_MAX','qu_floAcu_RANGE','qu_floAcu_MEAN','qu_floAcu_STD','qu_floAcu_SUM'])\n",
    "qu_floDir = dfes.melt(id_vars=['qu_floDir_MIN','qu_floDir_MAX','qu_floDir_RANGE','qu_floDir_MEAN','qu_floDir_STD','qu_floDir_SUM'])\n",
    "qu_curv = dfes.melt(id_vars=['qu_curv_MIN','qu_curv_MAX','qu_curv_RANGE','qu_curv_MEAN','qu_curv_STD','qu_curv_SUM'])\n",
    "qu_curpl = dfes.melt(id_vars=['qu_curpl_MIN','qu_curpl_MAX','qu_curpl_RANGE','qu_curpl_MEAN','qu_curpl_STD','qu_curpl_SUM'])\n",
    "qu_curpr = dfes.melt(id_vars=['qu_curpr_MIN','qu_curpr_MAX','qu_curpr_RANGE','qu_curpr_MEAN','qu_curpr_STD','qu_curpr_SUM'])\n"
   ]
  },
  {
   "cell_type": "markdown",
   "id": "a05a4f5b",
   "metadata": {},
   "source": [
    "# The code below is interactive. The code above is mostly definitions of the variables that you can assign to the X and Y values. I do plan to use the above code to generate subplots in the future."
   ]
  },
  {
   "cell_type": "code",
   "execution_count": 4,
   "id": "60fa551b",
   "metadata": {},
   "outputs": [
    {
     "data": {
      "text/plain": [
       "[<matplotlib.lines.Line2D at 0x255d66489a0>]"
      ]
     },
     "execution_count": 4,
     "metadata": {},
     "output_type": "execute_result"
    },
    {
     "data": {
      "text/plain": [
       "Text(0.5, 0, 'qu_floAcu_MEAN')"
      ]
     },
     "execution_count": 4,
     "metadata": {},
     "output_type": "execute_result"
    },
    {
     "data": {
      "text/plain": [
       "Text(0, 0.5, 'qu_floAcu_MEAN')"
      ]
     },
     "execution_count": 4,
     "metadata": {},
     "output_type": "execute_result"
    },
    {
     "data": {
      "image/png": "[encoded data removed]",
      "text/plain": [
       "<Figure size 432x288 with 1 Axes>"
      ]
     },
     "metadata": {
      "needs_background": "light"
     },
     "output_type": "display_data"
    }
   ],
   "source": [
    "#The X Value is determined by the variable you put in the single-quotes in the line below\n",
    "x = 'qu_floAcu_MEAN'\n",
    "\n",
    "#the Y Value is determined by the variable you put in the single-quotes in the line below\n",
    "y = 'qu_floAcu_MEAN'\n",
    "\n",
    "\n",
    "#Less important code stuff\n",
    "x0 = dfes[x].head(1000)\n",
    "y0 = dfes[y].head(1000)\n",
    "plt.plot(x0,y0, \"ko\")\n",
    "plt.xlabel(x)\n",
    "plt.ylabel(y)\n",
    "plt.show()"
   ]
  },
  {
   "cell_type": "code",
   "execution_count": null,
   "id": "b3c08132",
   "metadata": {},
   "outputs": [],
   "source": []
  }
 ],
 "metadata": {
  "kernelspec": {
   "display_name": "Python 3",
   "language": "python",
   "name": "python3"
  },
  "language_info": {
   "codemirror_mode": {
    "name": "ipython",
    "version": 3
   },
   "file_extension": ".py",
   "mimetype": "text/x-python",
   "name": "python",
   "nbconvert_exporter": "python",
   "pygments_lexer": "ipython3",
   "version": "3.8.8"
  }
 },
 "nbformat": 4,
 "nbformat_minor": 5
}
